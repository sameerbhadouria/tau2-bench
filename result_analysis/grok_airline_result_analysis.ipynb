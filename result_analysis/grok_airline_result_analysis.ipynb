{
 "cells": [
  {
   "cell_type": "code",
   "execution_count": 50,
   "id": "1805d347",
   "metadata": {},
   "outputs": [],
   "source": [
    "import sys\n",
    "import os\n",
    "from pathlib import Path\n",
    "\n",
    "notebook_dir = os.path.dirname(os.path.abspath(\"__file__\"))\n",
    "sys.path.append(notebook_dir)\n",
    "\n",
    "\n",
    "DATA_DIR_ENV = os.getenv(\"TAU2_DATA_DIR\")\n",
    "\n",
    "if DATA_DIR_ENV:\n",
    "    data_dir = Path(DATA_DIR_ENV)\n",
    "else:\n",
    "    # Fallback to source directory (for development)\n",
    "    repo_root = str(Path(notebook_dir).parent)\n",
    "    data_dir = f\"{repo_root}/data\"\n"
   ]
  },
  {
   "cell_type": "code",
   "execution_count": 24,
   "id": "44938afb",
   "metadata": {},
   "outputs": [],
   "source": [
    "import seaborn as sns\n",
    "import matplotlib.pyplot as plt\n",
    "import pandas as pd\n",
    "import numpy as np\n"
   ]
  },
  {
   "cell_type": "code",
   "execution_count": 52,
   "id": "5b0144a6",
   "metadata": {},
   "outputs": [],
   "source": [
    "%load_ext autoreload\n",
    "%autoreload 2"
   ]
  },
  {
   "cell_type": "markdown",
   "id": "26fc60be",
   "metadata": {},
   "source": [
    "# General Analysis\n",
    "- Read the evaluation results\n",
    "- Eval results are stored in a structure json file, and there is a shortcut utility to convert this to a dataframe.\n",
    "- Keep only relevant columns \n"
   ]
  },
  {
   "cell_type": "code",
   "execution_count": null,
   "id": "f9b57dee",
   "metadata": {},
   "outputs": [
    {
     "name": "stdout",
     "output_type": "stream",
     "text": [
      "(250, 27)\n",
      "Index(['simulation_id', 'task_id', 'trial', 'seed', 'reward', 'agent_cost',\n",
      "       'user_cost', 'termination_reason', 'duration', 'num_messages',\n",
      "       'info_git_commit', 'info_seed', 'info_num_trials', 'info_max_steps',\n",
      "       'info_max_errors', 'info_domain', 'info_user_implementation',\n",
      "       'info_user_llm', 'info_user_llm_args', 'info_agent_implementation',\n",
      "       'info_agent_llm', 'info_agent_llm_args', 'task_num_agent_actions',\n",
      "       'task_num_user_actions', 'task_num_actions', 'task_num_env_assertions',\n",
      "       'task_num_nl_assertions'],\n",
      "      dtype='object')\n"
     ]
    }
   ],
   "source": [
    "from tau2.data_model.simulation import Results\n",
    "\n",
    "grok_airline_results = Results.load(\n",
    "    Path(f\"{data_dir}/simulations/grok_airline_all.json\")\n",
    ")\n",
    "\n",
    "grok_airline_results_df = grok_airline_results.to_df()\n",
    "\n",
    "print(grok_airline_results_df.shape)\n",
    "print(grok_airline_results_df.columns)"
   ]
  },
  {
   "cell_type": "code",
   "execution_count": 28,
   "id": "5d33ab56",
   "metadata": {},
   "outputs": [
    {
     "data": {
      "text/html": [
       "<div>\n",
       "<style scoped>\n",
       "    .dataframe tbody tr th:only-of-type {\n",
       "        vertical-align: middle;\n",
       "    }\n",
       "\n",
       "    .dataframe tbody tr th {\n",
       "        vertical-align: top;\n",
       "    }\n",
       "\n",
       "    .dataframe thead th {\n",
       "        text-align: right;\n",
       "    }\n",
       "</style>\n",
       "<table border=\"1\" class=\"dataframe\">\n",
       "  <thead>\n",
       "    <tr style=\"text-align: right;\">\n",
       "      <th></th>\n",
       "      <th>simulation_id</th>\n",
       "      <th>task_id</th>\n",
       "      <th>trial</th>\n",
       "      <th>seed</th>\n",
       "      <th>reward</th>\n",
       "      <th>agent_cost</th>\n",
       "      <th>user_cost</th>\n",
       "      <th>termination_reason</th>\n",
       "      <th>duration</th>\n",
       "      <th>num_messages</th>\n",
       "      <th>...</th>\n",
       "      <th>info_user_llm</th>\n",
       "      <th>info_user_llm_args</th>\n",
       "      <th>info_agent_implementation</th>\n",
       "      <th>info_agent_llm</th>\n",
       "      <th>info_agent_llm_args</th>\n",
       "      <th>task_num_agent_actions</th>\n",
       "      <th>task_num_user_actions</th>\n",
       "      <th>task_num_actions</th>\n",
       "      <th>task_num_env_assertions</th>\n",
       "      <th>task_num_nl_assertions</th>\n",
       "    </tr>\n",
       "  </thead>\n",
       "  <tbody>\n",
       "    <tr>\n",
       "      <th>0</th>\n",
       "      <td>f8fdc8d8-2d0a-409c-b41b-027a87ada931</td>\n",
       "      <td>0</td>\n",
       "      <td>0</td>\n",
       "      <td>626729</td>\n",
       "      <td>1.0</td>\n",
       "      <td>0.005671</td>\n",
       "      <td>0.000802</td>\n",
       "      <td>TerminationReason.USER_STOP</td>\n",
       "      <td>15.093967</td>\n",
       "      <td>10</td>\n",
       "      <td>...</td>\n",
       "      <td>xai/grok-4-fast-reasoning</td>\n",
       "      <td>{'temperature': 0.0}</td>\n",
       "      <td>llm_agent</td>\n",
       "      <td>xai/grok-4-fast-reasoning</td>\n",
       "      <td>{'temperature': 0.0}</td>\n",
       "      <td>0</td>\n",
       "      <td>0</td>\n",
       "      <td>0</td>\n",
       "      <td>0</td>\n",
       "      <td>1</td>\n",
       "    </tr>\n",
       "    <tr>\n",
       "      <th>1</th>\n",
       "      <td>c8986318-6fe4-4f73-a08e-8adac924fb3e</td>\n",
       "      <td>1</td>\n",
       "      <td>0</td>\n",
       "      <td>626729</td>\n",
       "      <td>1.0</td>\n",
       "      <td>0.015513</td>\n",
       "      <td>0.001152</td>\n",
       "      <td>TerminationReason.USER_STOP</td>\n",
       "      <td>22.895670</td>\n",
       "      <td>22</td>\n",
       "      <td>...</td>\n",
       "      <td>xai/grok-4-fast-reasoning</td>\n",
       "      <td>{'temperature': 0.0}</td>\n",
       "      <td>llm_agent</td>\n",
       "      <td>xai/grok-4-fast-reasoning</td>\n",
       "      <td>{'temperature': 0.0}</td>\n",
       "      <td>2</td>\n",
       "      <td>0</td>\n",
       "      <td>2</td>\n",
       "      <td>0</td>\n",
       "      <td>1</td>\n",
       "    </tr>\n",
       "    <tr>\n",
       "      <th>2</th>\n",
       "      <td>8859a58e-afc0-499e-93ef-327331533127</td>\n",
       "      <td>3</td>\n",
       "      <td>0</td>\n",
       "      <td>626729</td>\n",
       "      <td>1.0</td>\n",
       "      <td>0.009049</td>\n",
       "      <td>0.001607</td>\n",
       "      <td>TerminationReason.USER_STOP</td>\n",
       "      <td>22.764926</td>\n",
       "      <td>14</td>\n",
       "      <td>...</td>\n",
       "      <td>xai/grok-4-fast-reasoning</td>\n",
       "      <td>{'temperature': 0.0}</td>\n",
       "      <td>llm_agent</td>\n",
       "      <td>xai/grok-4-fast-reasoning</td>\n",
       "      <td>{'temperature': 0.0}</td>\n",
       "      <td>2</td>\n",
       "      <td>0</td>\n",
       "      <td>2</td>\n",
       "      <td>0</td>\n",
       "      <td>2</td>\n",
       "    </tr>\n",
       "    <tr>\n",
       "      <th>3</th>\n",
       "      <td>0b89b572-ee64-42ae-8556-fcc362602314</td>\n",
       "      <td>4</td>\n",
       "      <td>0</td>\n",
       "      <td>626729</td>\n",
       "      <td>1.0</td>\n",
       "      <td>0.018365</td>\n",
       "      <td>0.001883</td>\n",
       "      <td>TerminationReason.USER_STOP</td>\n",
       "      <td>31.408852</td>\n",
       "      <td>24</td>\n",
       "      <td>...</td>\n",
       "      <td>xai/grok-4-fast-reasoning</td>\n",
       "      <td>{'temperature': 0.0}</td>\n",
       "      <td>llm_agent</td>\n",
       "      <td>xai/grok-4-fast-reasoning</td>\n",
       "      <td>{'temperature': 0.0}</td>\n",
       "      <td>6</td>\n",
       "      <td>0</td>\n",
       "      <td>6</td>\n",
       "      <td>0</td>\n",
       "      <td>2</td>\n",
       "    </tr>\n",
       "    <tr>\n",
       "      <th>4</th>\n",
       "      <td>6571f0cf-9663-43b5-afdc-21392fd57b95</td>\n",
       "      <td>2</td>\n",
       "      <td>0</td>\n",
       "      <td>626729</td>\n",
       "      <td>1.0</td>\n",
       "      <td>0.021557</td>\n",
       "      <td>0.005920</td>\n",
       "      <td>TerminationReason.USER_STOP</td>\n",
       "      <td>65.517945</td>\n",
       "      <td>28</td>\n",
       "      <td>...</td>\n",
       "      <td>xai/grok-4-fast-reasoning</td>\n",
       "      <td>{'temperature': 0.0}</td>\n",
       "      <td>llm_agent</td>\n",
       "      <td>xai/grok-4-fast-reasoning</td>\n",
       "      <td>{'temperature': 0.0}</td>\n",
       "      <td>4</td>\n",
       "      <td>0</td>\n",
       "      <td>4</td>\n",
       "      <td>0</td>\n",
       "      <td>4</td>\n",
       "    </tr>\n",
       "  </tbody>\n",
       "</table>\n",
       "<p>5 rows × 27 columns</p>\n",
       "</div>"
      ],
      "text/plain": [
       "                          simulation_id task_id  trial    seed  reward  \\\n",
       "0  f8fdc8d8-2d0a-409c-b41b-027a87ada931       0      0  626729     1.0   \n",
       "1  c8986318-6fe4-4f73-a08e-8adac924fb3e       1      0  626729     1.0   \n",
       "2  8859a58e-afc0-499e-93ef-327331533127       3      0  626729     1.0   \n",
       "3  0b89b572-ee64-42ae-8556-fcc362602314       4      0  626729     1.0   \n",
       "4  6571f0cf-9663-43b5-afdc-21392fd57b95       2      0  626729     1.0   \n",
       "\n",
       "   agent_cost  user_cost           termination_reason   duration  \\\n",
       "0    0.005671   0.000802  TerminationReason.USER_STOP  15.093967   \n",
       "1    0.015513   0.001152  TerminationReason.USER_STOP  22.895670   \n",
       "2    0.009049   0.001607  TerminationReason.USER_STOP  22.764926   \n",
       "3    0.018365   0.001883  TerminationReason.USER_STOP  31.408852   \n",
       "4    0.021557   0.005920  TerminationReason.USER_STOP  65.517945   \n",
       "\n",
       "   num_messages  ...              info_user_llm    info_user_llm_args  \\\n",
       "0            10  ...  xai/grok-4-fast-reasoning  {'temperature': 0.0}   \n",
       "1            22  ...  xai/grok-4-fast-reasoning  {'temperature': 0.0}   \n",
       "2            14  ...  xai/grok-4-fast-reasoning  {'temperature': 0.0}   \n",
       "3            24  ...  xai/grok-4-fast-reasoning  {'temperature': 0.0}   \n",
       "4            28  ...  xai/grok-4-fast-reasoning  {'temperature': 0.0}   \n",
       "\n",
       "   info_agent_implementation             info_agent_llm   info_agent_llm_args  \\\n",
       "0                  llm_agent  xai/grok-4-fast-reasoning  {'temperature': 0.0}   \n",
       "1                  llm_agent  xai/grok-4-fast-reasoning  {'temperature': 0.0}   \n",
       "2                  llm_agent  xai/grok-4-fast-reasoning  {'temperature': 0.0}   \n",
       "3                  llm_agent  xai/grok-4-fast-reasoning  {'temperature': 0.0}   \n",
       "4                  llm_agent  xai/grok-4-fast-reasoning  {'temperature': 0.0}   \n",
       "\n",
       "  task_num_agent_actions task_num_user_actions task_num_actions  \\\n",
       "0                      0                     0                0   \n",
       "1                      2                     0                2   \n",
       "2                      2                     0                2   \n",
       "3                      6                     0                6   \n",
       "4                      4                     0                4   \n",
       "\n",
       "  task_num_env_assertions task_num_nl_assertions  \n",
       "0                       0                      1  \n",
       "1                       0                      1  \n",
       "2                       0                      2  \n",
       "3                       0                      2  \n",
       "4                       0                      4  \n",
       "\n",
       "[5 rows x 27 columns]"
      ]
     },
     "execution_count": 28,
     "metadata": {},
     "output_type": "execute_result"
    }
   ],
   "source": [
    "grok_airline_results_df.head()"
   ]
  },
  {
   "cell_type": "code",
   "execution_count": 18,
   "id": "0f206f7e",
   "metadata": {},
   "outputs": [
    {
     "data": {
      "text/html": [
       "<div>\n",
       "<style scoped>\n",
       "    .dataframe tbody tr th:only-of-type {\n",
       "        vertical-align: middle;\n",
       "    }\n",
       "\n",
       "    .dataframe tbody tr th {\n",
       "        vertical-align: top;\n",
       "    }\n",
       "\n",
       "    .dataframe thead th {\n",
       "        text-align: right;\n",
       "    }\n",
       "</style>\n",
       "<table border=\"1\" class=\"dataframe\">\n",
       "  <thead>\n",
       "    <tr style=\"text-align: right;\">\n",
       "      <th></th>\n",
       "      <th>task_id</th>\n",
       "      <th>trial</th>\n",
       "      <th>reward</th>\n",
       "      <th>agent_cost</th>\n",
       "      <th>user_cost</th>\n",
       "      <th>duration</th>\n",
       "      <th>num_messages</th>\n",
       "      <th>task_num_agent_actions</th>\n",
       "    </tr>\n",
       "  </thead>\n",
       "  <tbody>\n",
       "    <tr>\n",
       "      <th>0</th>\n",
       "      <td>0</td>\n",
       "      <td>0</td>\n",
       "      <td>1.0</td>\n",
       "      <td>0.005671</td>\n",
       "      <td>0.000802</td>\n",
       "      <td>15.093967</td>\n",
       "      <td>10</td>\n",
       "      <td>0</td>\n",
       "    </tr>\n",
       "    <tr>\n",
       "      <th>1</th>\n",
       "      <td>1</td>\n",
       "      <td>0</td>\n",
       "      <td>1.0</td>\n",
       "      <td>0.015513</td>\n",
       "      <td>0.001152</td>\n",
       "      <td>22.895670</td>\n",
       "      <td>22</td>\n",
       "      <td>2</td>\n",
       "    </tr>\n",
       "    <tr>\n",
       "      <th>2</th>\n",
       "      <td>3</td>\n",
       "      <td>0</td>\n",
       "      <td>1.0</td>\n",
       "      <td>0.009049</td>\n",
       "      <td>0.001607</td>\n",
       "      <td>22.764926</td>\n",
       "      <td>14</td>\n",
       "      <td>2</td>\n",
       "    </tr>\n",
       "    <tr>\n",
       "      <th>3</th>\n",
       "      <td>4</td>\n",
       "      <td>0</td>\n",
       "      <td>1.0</td>\n",
       "      <td>0.018365</td>\n",
       "      <td>0.001883</td>\n",
       "      <td>31.408852</td>\n",
       "      <td>24</td>\n",
       "      <td>6</td>\n",
       "    </tr>\n",
       "    <tr>\n",
       "      <th>4</th>\n",
       "      <td>2</td>\n",
       "      <td>0</td>\n",
       "      <td>1.0</td>\n",
       "      <td>0.021557</td>\n",
       "      <td>0.005920</td>\n",
       "      <td>65.517945</td>\n",
       "      <td>28</td>\n",
       "      <td>4</td>\n",
       "    </tr>\n",
       "  </tbody>\n",
       "</table>\n",
       "</div>"
      ],
      "text/plain": [
       "  task_id  trial  reward  agent_cost  user_cost   duration  num_messages  \\\n",
       "0       0      0     1.0    0.005671   0.000802  15.093967            10   \n",
       "1       1      0     1.0    0.015513   0.001152  22.895670            22   \n",
       "2       3      0     1.0    0.009049   0.001607  22.764926            14   \n",
       "3       4      0     1.0    0.018365   0.001883  31.408852            24   \n",
       "4       2      0     1.0    0.021557   0.005920  65.517945            28   \n",
       "\n",
       "   task_num_agent_actions  \n",
       "0                       0  \n",
       "1                       2  \n",
       "2                       2  \n",
       "3                       6  \n",
       "4                       4  "
      ]
     },
     "execution_count": 18,
     "metadata": {},
     "output_type": "execute_result"
    }
   ],
   "source": [
    "relevant_columns = [\n",
    "    \"task_id\",\n",
    "    \"trial\",\n",
    "    \"reward\",\n",
    "    \"agent_cost\",\n",
    "    \"user_cost\",\n",
    "    \"duration\",\n",
    "    \"num_messages\",\n",
    "    \"task_num_agent_actions\",\n",
    "    # \"task_num_user_actions\", # Always 0 for airline\n",
    "    # \"task_num_actions\", # Same as task_num_agent_actions since no user actions\n",
    "]\n",
    "filtered_airline_results = grok_airline_results_df[relevant_columns]\n",
    "filtered_airline_results.head()"
   ]
  },
  {
   "cell_type": "code",
   "execution_count": 93,
   "id": "4d706741",
   "metadata": {},
   "outputs": [
    {
     "name": "stdout",
     "output_type": "stream",
     "text": [
      "(200, 8)\n"
     ]
    }
   ],
   "source": [
    "filtered_airline_results = filtered_airline_results[filtered_airline_results[\"trial\"] != 4]\n",
    "print(filtered_airline_results.shape)"
   ]
  },
  {
   "cell_type": "code",
   "execution_count": 94,
   "id": "a501cf31",
   "metadata": {},
   "outputs": [
    {
     "data": {
      "text/plain": [
       "<Axes: xlabel='trial', ylabel='reward'>"
      ]
     },
     "execution_count": 94,
     "metadata": {},
     "output_type": "execute_result"
    },
    {
     "data": {
      "image/png": "[encoded data removed]",
      "text/plain": [
       "<Figure size 640x480 with 1 Axes>"
      ]
     },
     "metadata": {},
     "output_type": "display_data"
    }
   ],
   "source": [
    "sns.barplot(x=\"trial\", y=\"reward\", data=filtered_airline_results)"
   ]
  },
  {
   "cell_type": "code",
   "execution_count": 95,
   "id": "cdd0fccf",
   "metadata": {},
   "outputs": [
    {
     "data": {
      "image/png": "[encoded data removed]",
      "text/plain": [
       "<Figure size 640x480 with 1 Axes>"
      ]
     },
     "metadata": {},
     "output_type": "display_data"
    }
   ],
   "source": [
    "reward_grouped = filtered_airline_results.groupby([\"trial\", \"reward\"])[\"task_id\"].count().reset_index()\n",
    "reward_grouped = reward_grouped.rename(columns={\"task_id\": \"count\"})\n",
    "\n",
    "sns.barplot(x=\"trial\", y=\"count\", hue=\"reward\", data=reward_grouped)\n",
    "plt.title(\"Reward Count per Trial\")\n",
    "plt.ylabel(\"Number of tasks\")\n",
    "plt.show()\n"
   ]
  },
  {
   "cell_type": "code",
   "execution_count": 96,
   "id": "9b1ec7b3",
   "metadata": {},
   "outputs": [],
   "source": [
    "def plot_col_dist_by_reward_vals(col_name: str, df: pd.DataFrame):\n",
    "    plt.figure(figsize=(10,6))\n",
    "    sns.histplot(\n",
    "        df[df[\"reward\"] == 0.0][col_name],\n",
    "        label=\"reward=0\",\n",
    "        kde=True,\n",
    "        stat=\"density\",\n",
    "        color=\"r\",\n",
    "        alpha=0.3,\n",
    "        bins=15\n",
    "    )\n",
    "\n",
    "    sns.histplot(\n",
    "        df[df[\"reward\"] == 1.0][col_name],\n",
    "        label=\"reward=1\",\n",
    "        kde=True,\n",
    "        stat=\"density\",\n",
    "        color=\"g\",\n",
    "        alpha=0.3,\n",
    "        bins=15\n",
    "    )\n",
    "\n",
    "    plt.legend()\n",
    "    plt.xlabel(col_name)\n",
    "    plt.ylabel(\"Density\")\n",
    "    plt.title(f\"Distribution of {col_name} for reward=0 vs reward=1\")\n",
    "    plt.show()"
   ]
  },
  {
   "cell_type": "markdown",
   "id": "cebc7832",
   "metadata": {},
   "source": [
    "Reward vs num_messages observation:\n",
    "- When the reward is 1 or success, the distribution is concentrated on the lower range for `num_messages`. This peaks around 10-20 messages.\n",
    "- Failed tasks have longer right tail with density extending from 25-50+ messages."
   ]
  },
  {
   "cell_type": "code",
   "execution_count": 97,
   "id": "ec5db1c1",
   "metadata": {},
   "outputs": [
    {
     "data": {
      "image/png": "[encoded data removed]",
      "text/plain": [
       "<Figure size 1000x600 with 1 Axes>"
      ]
     },
     "metadata": {},
     "output_type": "display_data"
    }
   ],
   "source": [
    "plot_col_dist_by_reward_vals(\"num_messages\", filtered_airline_results)"
   ]
  },
  {
   "cell_type": "markdown",
   "id": "71db3e9c",
   "metadata": {},
   "source": [
    "Reward vs `task_num_agent_actions` observations: \n",
    "-  When the reward is 1 or success, observation is seen from the `task_num_agent_actions`. \n",
    "- Reward=1 is highly concentrated around 1-2 agent actions.\n",
    "- The failure cases have high variances. Some tasks fail with few actions while others take up 20 actions"
   ]
  },
  {
   "cell_type": "code",
   "execution_count": 98,
   "id": "846eacc3",
   "metadata": {},
   "outputs": [
    {
     "data": {
      "image/png": "[encoded data removed]",
      "text/plain": [
       "<Figure size 1000x600 with 1 Axes>"
      ]
     },
     "metadata": {},
     "output_type": "display_data"
    }
   ],
   "source": [
    "plot_col_dist_by_reward_vals(\"task_num_agent_actions\", filtered_airline_results)"
   ]
  },
  {
   "cell_type": "markdown",
   "id": "b95b1f43",
   "metadata": {},
   "source": [
    "## Task category classification"
   ]
  },
  {
   "cell_type": "code",
   "execution_count": null,
   "id": "7b3e7e56",
   "metadata": {},
   "outputs": [],
   "source": [
    "from airline_agent_eval_task_classifier import AirlineAgentEvalTaskClassifier\n",
    "\n",
    "task_classifier = AirlineAgentEvalTaskClassifier(domain_dir=f\"{data_dir}/tau2/domains/airline\")\n",
    "task_id_category = task_classifier.run(save_to_path=f\"{data_dir}/experiments/domains/airline/task_category_mapping.json\")"
   ]
  },
  {
   "cell_type": "code",
   "execution_count": 74,
   "id": "0e35daad",
   "metadata": {},
   "outputs": [
    {
     "data": {
      "text/html": [
       "<div>\n",
       "<style scoped>\n",
       "    .dataframe tbody tr th:only-of-type {\n",
       "        vertical-align: middle;\n",
       "    }\n",
       "\n",
       "    .dataframe tbody tr th {\n",
       "        vertical-align: top;\n",
       "    }\n",
       "\n",
       "    .dataframe thead th {\n",
       "        text-align: right;\n",
       "    }\n",
       "</style>\n",
       "<table border=\"1\" class=\"dataframe\">\n",
       "  <thead>\n",
       "    <tr style=\"text-align: right;\">\n",
       "      <th></th>\n",
       "      <th>task_id</th>\n",
       "      <th>category</th>\n",
       "    </tr>\n",
       "  </thead>\n",
       "  <tbody>\n",
       "    <tr>\n",
       "      <th>0</th>\n",
       "      <td>0</td>\n",
       "      <td>Cancellation Policy Tricking</td>\n",
       "    </tr>\n",
       "    <tr>\n",
       "      <th>1</th>\n",
       "      <td>1</td>\n",
       "      <td>Cancellation Policy Tricking</td>\n",
       "    </tr>\n",
       "    <tr>\n",
       "      <th>2</th>\n",
       "      <td>2</td>\n",
       "      <td>Compensation/Complaints Tricking</td>\n",
       "    </tr>\n",
       "    <tr>\n",
       "      <th>3</th>\n",
       "      <td>3</td>\n",
       "      <td>Membership &amp; Benefits</td>\n",
       "    </tr>\n",
       "    <tr>\n",
       "      <th>4</th>\n",
       "      <td>4</td>\n",
       "      <td>Compensation/Complaints Tricking</td>\n",
       "    </tr>\n",
       "  </tbody>\n",
       "</table>\n",
       "</div>"
      ],
      "text/plain": [
       "   task_id                          category\n",
       "0        0      Cancellation Policy Tricking\n",
       "1        1      Cancellation Policy Tricking\n",
       "2        2  Compensation/Complaints Tricking\n",
       "3        3             Membership & Benefits\n",
       "4        4  Compensation/Complaints Tricking"
      ]
     },
     "execution_count": 74,
     "metadata": {},
     "output_type": "execute_result"
    }
   ],
   "source": [
    "task_id_category_df = pd.DataFrame(\n",
    "    [{\"task_id\": int(k), \"category\": str(v)} for k, v in task_id_category.items()]\n",
    ")\n",
    "task_id_category_df.head()"
   ]
  },
  {
   "cell_type": "code",
   "execution_count": 75,
   "id": "a8f59022",
   "metadata": {},
   "outputs": [
    {
     "data": {
      "text/plain": [
       "category\n",
       "Flight Modification                   11\n",
       "Cancellation Policy Tricking           9\n",
       "Complex Multi-Transaction              8\n",
       "Flight Modification Tricking           6\n",
       "Compensation/Complaints Tricking       4\n",
       "Booking Creation                       3\n",
       "Complex Multi-Transaction Tricking     3\n",
       "Cancellation Policy                    2\n",
       "Membership & Benefits                  1\n",
       "Insurance Issues Tricking              1\n",
       "Compensation/Complaints                1\n",
       "Insurance Issues                       1\n",
       "Name: count, dtype: int64"
      ]
     },
     "execution_count": 75,
     "metadata": {},
     "output_type": "execute_result"
    }
   ],
   "source": [
    "task_id_category_df[\"category\"].value_counts()"
   ]
  },
  {
   "cell_type": "markdown",
   "id": "1497729a",
   "metadata": {},
   "source": [
    "### Merge categories to tasks"
   ]
  },
  {
   "cell_type": "code",
   "execution_count": 114,
   "id": "2f7c9c19",
   "metadata": {},
   "outputs": [],
   "source": [
    "filtered_airline_results[\"task_id\"] = filtered_airline_results[\"task_id\"].astype(int)"
   ]
  },
  {
   "cell_type": "code",
   "execution_count": 115,
   "id": "bb0e3258",
   "metadata": {},
   "outputs": [
    {
     "data": {
      "text/html": [
       "<div>\n",
       "<style scoped>\n",
       "    .dataframe tbody tr th:only-of-type {\n",
       "        vertical-align: middle;\n",
       "    }\n",
       "\n",
       "    .dataframe tbody tr th {\n",
       "        vertical-align: top;\n",
       "    }\n",
       "\n",
       "    .dataframe thead th {\n",
       "        text-align: right;\n",
       "    }\n",
       "</style>\n",
       "<table border=\"1\" class=\"dataframe\">\n",
       "  <thead>\n",
       "    <tr style=\"text-align: right;\">\n",
       "      <th></th>\n",
       "      <th>task_id</th>\n",
       "      <th>trial</th>\n",
       "      <th>reward</th>\n",
       "      <th>agent_cost</th>\n",
       "      <th>user_cost</th>\n",
       "      <th>duration</th>\n",
       "      <th>num_messages</th>\n",
       "      <th>task_num_agent_actions</th>\n",
       "      <th>category</th>\n",
       "    </tr>\n",
       "  </thead>\n",
       "  <tbody>\n",
       "    <tr>\n",
       "      <th>0</th>\n",
       "      <td>0</td>\n",
       "      <td>0</td>\n",
       "      <td>1.0</td>\n",
       "      <td>0.005671</td>\n",
       "      <td>0.000802</td>\n",
       "      <td>15.093967</td>\n",
       "      <td>10</td>\n",
       "      <td>0</td>\n",
       "      <td>Cancellation Policy Tricking</td>\n",
       "    </tr>\n",
       "    <tr>\n",
       "      <th>1</th>\n",
       "      <td>1</td>\n",
       "      <td>0</td>\n",
       "      <td>1.0</td>\n",
       "      <td>0.015513</td>\n",
       "      <td>0.001152</td>\n",
       "      <td>22.895670</td>\n",
       "      <td>22</td>\n",
       "      <td>2</td>\n",
       "      <td>Cancellation Policy Tricking</td>\n",
       "    </tr>\n",
       "    <tr>\n",
       "      <th>2</th>\n",
       "      <td>3</td>\n",
       "      <td>0</td>\n",
       "      <td>1.0</td>\n",
       "      <td>0.009049</td>\n",
       "      <td>0.001607</td>\n",
       "      <td>22.764926</td>\n",
       "      <td>14</td>\n",
       "      <td>2</td>\n",
       "      <td>Membership &amp; Benefits</td>\n",
       "    </tr>\n",
       "    <tr>\n",
       "      <th>3</th>\n",
       "      <td>4</td>\n",
       "      <td>0</td>\n",
       "      <td>1.0</td>\n",
       "      <td>0.018365</td>\n",
       "      <td>0.001883</td>\n",
       "      <td>31.408852</td>\n",
       "      <td>24</td>\n",
       "      <td>6</td>\n",
       "      <td>Compensation/Complaints Tricking</td>\n",
       "    </tr>\n",
       "    <tr>\n",
       "      <th>4</th>\n",
       "      <td>2</td>\n",
       "      <td>0</td>\n",
       "      <td>1.0</td>\n",
       "      <td>0.021557</td>\n",
       "      <td>0.005920</td>\n",
       "      <td>65.517945</td>\n",
       "      <td>28</td>\n",
       "      <td>4</td>\n",
       "      <td>Compensation/Complaints Tricking</td>\n",
       "    </tr>\n",
       "  </tbody>\n",
       "</table>\n",
       "</div>"
      ],
      "text/plain": [
       "   task_id  trial  reward  agent_cost  user_cost   duration  num_messages  \\\n",
       "0        0      0     1.0    0.005671   0.000802  15.093967            10   \n",
       "1        1      0     1.0    0.015513   0.001152  22.895670            22   \n",
       "2        3      0     1.0    0.009049   0.001607  22.764926            14   \n",
       "3        4      0     1.0    0.018365   0.001883  31.408852            24   \n",
       "4        2      0     1.0    0.021557   0.005920  65.517945            28   \n",
       "\n",
       "   task_num_agent_actions                          category  \n",
       "0                       0      Cancellation Policy Tricking  \n",
       "1                       2      Cancellation Policy Tricking  \n",
       "2                       2             Membership & Benefits  \n",
       "3                       6  Compensation/Complaints Tricking  \n",
       "4                       4  Compensation/Complaints Tricking  "
      ]
     },
     "execution_count": 115,
     "metadata": {},
     "output_type": "execute_result"
    }
   ],
   "source": [
    "\n",
    "task_with_categories = filtered_airline_results.merge(\n",
    "    task_id_category_df,\n",
    "    on=\"task_id\",\n",
    "    how=\"inner\"\n",
    ")\n",
    "task_with_categories.head()\n",
    "# failed_task_trials_with_categories.sort_values(by=\"trial_count\", ascending=False)"
   ]
  },
  {
   "cell_type": "code",
   "execution_count": 129,
   "id": "085b4e4b",
   "metadata": {},
   "outputs": [],
   "source": [
    "success_counts = task_with_categories[task_with_categories.reward == 1][\"category\"].value_counts()\n",
    "total_counts = task_with_categories[\"category\"].value_counts()\n",
    "success_ratio = (success_counts / total_counts) * 100"
   ]
  },
  {
   "cell_type": "code",
   "execution_count": 128,
   "id": "97b37ee0",
   "metadata": {},
   "outputs": [
    {
     "data": {
      "text/html": [
       "<div>\n",
       "<style scoped>\n",
       "    .dataframe tbody tr th:only-of-type {\n",
       "        vertical-align: middle;\n",
       "    }\n",
       "\n",
       "    .dataframe tbody tr th {\n",
       "        vertical-align: top;\n",
       "    }\n",
       "\n",
       "    .dataframe thead th {\n",
       "        text-align: right;\n",
       "    }\n",
       "</style>\n",
       "<table border=\"1\" class=\"dataframe\">\n",
       "  <thead>\n",
       "    <tr style=\"text-align: right;\">\n",
       "      <th></th>\n",
       "      <th>success_count</th>\n",
       "      <th>total_count</th>\n",
       "      <th>success_ratio</th>\n",
       "    </tr>\n",
       "    <tr>\n",
       "      <th>category</th>\n",
       "      <th></th>\n",
       "      <th></th>\n",
       "      <th></th>\n",
       "    </tr>\n",
       "  </thead>\n",
       "  <tbody>\n",
       "    <tr>\n",
       "      <th>Cancellation Policy</th>\n",
       "      <td>8.0</td>\n",
       "      <td>8</td>\n",
       "      <td>100.000000</td>\n",
       "    </tr>\n",
       "    <tr>\n",
       "      <th>Insurance Issues</th>\n",
       "      <td>4.0</td>\n",
       "      <td>4</td>\n",
       "      <td>100.000000</td>\n",
       "    </tr>\n",
       "    <tr>\n",
       "      <th>Insurance Issues Tricking</th>\n",
       "      <td>4.0</td>\n",
       "      <td>4</td>\n",
       "      <td>100.000000</td>\n",
       "    </tr>\n",
       "    <tr>\n",
       "      <th>Membership &amp; Benefits</th>\n",
       "      <td>4.0</td>\n",
       "      <td>4</td>\n",
       "      <td>100.000000</td>\n",
       "    </tr>\n",
       "    <tr>\n",
       "      <th>Cancellation Policy Tricking</th>\n",
       "      <td>32.0</td>\n",
       "      <td>36</td>\n",
       "      <td>88.888889</td>\n",
       "    </tr>\n",
       "    <tr>\n",
       "      <th>Flight Modification</th>\n",
       "      <td>29.0</td>\n",
       "      <td>44</td>\n",
       "      <td>65.909091</td>\n",
       "    </tr>\n",
       "    <tr>\n",
       "      <th>Booking Creation</th>\n",
       "      <td>7.0</td>\n",
       "      <td>12</td>\n",
       "      <td>58.333333</td>\n",
       "    </tr>\n",
       "    <tr>\n",
       "      <th>Flight Modification Tricking</th>\n",
       "      <td>14.0</td>\n",
       "      <td>24</td>\n",
       "      <td>58.333333</td>\n",
       "    </tr>\n",
       "    <tr>\n",
       "      <th>Compensation/Complaints Tricking</th>\n",
       "      <td>9.0</td>\n",
       "      <td>16</td>\n",
       "      <td>56.250000</td>\n",
       "    </tr>\n",
       "    <tr>\n",
       "      <th>Complex Multi-Transaction</th>\n",
       "      <td>8.0</td>\n",
       "      <td>32</td>\n",
       "      <td>25.000000</td>\n",
       "    </tr>\n",
       "    <tr>\n",
       "      <th>Compensation/Complaints</th>\n",
       "      <td>0.0</td>\n",
       "      <td>4</td>\n",
       "      <td>0.000000</td>\n",
       "    </tr>\n",
       "    <tr>\n",
       "      <th>Complex Multi-Transaction Tricking</th>\n",
       "      <td>0.0</td>\n",
       "      <td>12</td>\n",
       "      <td>0.000000</td>\n",
       "    </tr>\n",
       "  </tbody>\n",
       "</table>\n",
       "</div>"
      ],
      "text/plain": [
       "                                    success_count  total_count  success_ratio\n",
       "category                                                                     \n",
       "Cancellation Policy                           8.0            8     100.000000\n",
       "Insurance Issues                              4.0            4     100.000000\n",
       "Insurance Issues Tricking                     4.0            4     100.000000\n",
       "Membership & Benefits                         4.0            4     100.000000\n",
       "Cancellation Policy Tricking                 32.0           36      88.888889\n",
       "Flight Modification                          29.0           44      65.909091\n",
       "Booking Creation                              7.0           12      58.333333\n",
       "Flight Modification Tricking                 14.0           24      58.333333\n",
       "Compensation/Complaints Tricking              9.0           16      56.250000\n",
       "Complex Multi-Transaction                     8.0           32      25.000000\n",
       "Compensation/Complaints                       0.0            4       0.000000\n",
       "Complex Multi-Transaction Tricking            0.0           12       0.000000"
      ]
     },
     "execution_count": 128,
     "metadata": {},
     "output_type": "execute_result"
    }
   ],
   "source": [
    "success_summary_df = pd.DataFrame({\n",
    "    'success_count': success_counts,\n",
    "    'total_count': total_counts,\n",
    "    'success_ratio': success_ratio\n",
    "}).fillna(0.0)\n",
    "\n",
    "success_summary_df = success_summary_df.sort_values(by=\"success_ratio\", ascending=False)\n",
    "success_summary_df\n"
   ]
  },
  {
   "cell_type": "markdown",
   "id": "87806c31",
   "metadata": {},
   "source": [
    "### Success Categories"
   ]
  },
  {
   "cell_type": "code",
   "execution_count": null,
   "id": "5af07797",
   "metadata": {},
   "outputs": [
    {
     "data": {
      "text/plain": [
       "category\n",
       "Cancellation Policy Tricking        32\n",
       "Flight Modification                 29\n",
       "Flight Modification Tricking        14\n",
       "Compensation/Complaints Tricking     9\n",
       "Complex Multi-Transaction            8\n",
       "Cancellation Policy                  8\n",
       "Booking Creation                     7\n",
       "Membership & Benefits                4\n",
       "Insurance Issues Tricking            4\n",
       "Insurance Issues                     4\n",
       "Name: count, dtype: int64"
      ]
     },
     "execution_count": 118,
     "metadata": {},
     "output_type": "execute_result"
    }
   ],
   "source": [
    "task_with_categories[task_with_categories.reward == 1][\"category\"].value_counts()"
   ]
  },
  {
   "cell_type": "markdown",
   "id": "ace70405",
   "metadata": {},
   "source": [
    "### Failed Task Deep Dive"
   ]
  },
  {
   "cell_type": "code",
   "execution_count": null,
   "id": "c4dc5e8f",
   "metadata": {},
   "outputs": [
    {
     "data": {
      "text/html": [
       "<div>\n",
       "<style scoped>\n",
       "    .dataframe tbody tr th:only-of-type {\n",
       "        vertical-align: middle;\n",
       "    }\n",
       "\n",
       "    .dataframe tbody tr th {\n",
       "        vertical-align: top;\n",
       "    }\n",
       "\n",
       "    .dataframe thead th {\n",
       "        text-align: right;\n",
       "    }\n",
       "</style>\n",
       "<table border=\"1\" class=\"dataframe\">\n",
       "  <thead>\n",
       "    <tr style=\"text-align: right;\">\n",
       "      <th></th>\n",
       "      <th>task_id</th>\n",
       "      <th>trials</th>\n",
       "      <th>trial_count</th>\n",
       "      <th>num_messages</th>\n",
       "      <th>task_num_agent_actions</th>\n",
       "      <th>mean_duration</th>\n",
       "    </tr>\n",
       "  </thead>\n",
       "  <tbody>\n",
       "    <tr>\n",
       "      <th>13</th>\n",
       "      <td>27</td>\n",
       "      <td>[0, 1, 2, 3]</td>\n",
       "      <td>4</td>\n",
       "      <td>[38, 33, 4, 41]</td>\n",
       "      <td>[2, 2, 2, 2]</td>\n",
       "      <td>44.845575</td>\n",
       "    </tr>\n",
       "    <tr>\n",
       "      <th>11</th>\n",
       "      <td>24</td>\n",
       "      <td>[0, 1, 2, 3]</td>\n",
       "      <td>4</td>\n",
       "      <td>[8, 8, 10, 14]</td>\n",
       "      <td>[1, 1, 1, 1]</td>\n",
       "      <td>12.562403</td>\n",
       "    </tr>\n",
       "    <tr>\n",
       "      <th>24</th>\n",
       "      <td>7</td>\n",
       "      <td>[0, 1, 2, 3]</td>\n",
       "      <td>4</td>\n",
       "      <td>[11, 12, 28, 20]</td>\n",
       "      <td>[5, 5, 5, 5]</td>\n",
       "      <td>26.543581</td>\n",
       "    </tr>\n",
       "    <tr>\n",
       "      <th>23</th>\n",
       "      <td>44</td>\n",
       "      <td>[0, 1, 2, 3]</td>\n",
       "      <td>4</td>\n",
       "      <td>[28, 47, 28, 28]</td>\n",
       "      <td>[20, 20, 20, 20]</td>\n",
       "      <td>39.623847</td>\n",
       "    </tr>\n",
       "    <tr>\n",
       "      <th>20</th>\n",
       "      <td>39</td>\n",
       "      <td>[0, 1, 2, 3]</td>\n",
       "      <td>4</td>\n",
       "      <td>[30, 22, 36, 25]</td>\n",
       "      <td>[11, 11, 11, 11]</td>\n",
       "      <td>37.344127</td>\n",
       "    </tr>\n",
       "    <tr>\n",
       "      <th>19</th>\n",
       "      <td>38</td>\n",
       "      <td>[0, 1, 2, 3]</td>\n",
       "      <td>4</td>\n",
       "      <td>[20, 26, 22, 22]</td>\n",
       "      <td>[3, 3, 3, 3]</td>\n",
       "      <td>36.808755</td>\n",
       "    </tr>\n",
       "    <tr>\n",
       "      <th>18</th>\n",
       "      <td>37</td>\n",
       "      <td>[0, 1, 2, 3]</td>\n",
       "      <td>4</td>\n",
       "      <td>[30, 28, 24, 28]</td>\n",
       "      <td>[5, 5, 5, 5]</td>\n",
       "      <td>47.175518</td>\n",
       "    </tr>\n",
       "    <tr>\n",
       "      <th>17</th>\n",
       "      <td>35</td>\n",
       "      <td>[0, 1, 2, 3]</td>\n",
       "      <td>4</td>\n",
       "      <td>[39, 40, 33, 24]</td>\n",
       "      <td>[1, 1, 1, 1]</td>\n",
       "      <td>70.372173</td>\n",
       "    </tr>\n",
       "    <tr>\n",
       "      <th>16</th>\n",
       "      <td>33</td>\n",
       "      <td>[0, 1, 2, 3]</td>\n",
       "      <td>4</td>\n",
       "      <td>[28, 27, 23, 34]</td>\n",
       "      <td>[5, 5, 5, 5]</td>\n",
       "      <td>59.749716</td>\n",
       "    </tr>\n",
       "    <tr>\n",
       "      <th>15</th>\n",
       "      <td>32</td>\n",
       "      <td>[0, 1, 2, 3]</td>\n",
       "      <td>4</td>\n",
       "      <td>[12, 18, 12, 15]</td>\n",
       "      <td>[5, 5, 5, 5]</td>\n",
       "      <td>22.641984</td>\n",
       "    </tr>\n",
       "    <tr>\n",
       "      <th>14</th>\n",
       "      <td>29</td>\n",
       "      <td>[0, 1, 2, 3]</td>\n",
       "      <td>4</td>\n",
       "      <td>[16, 10, 14, 15]</td>\n",
       "      <td>[3, 3, 3, 3]</td>\n",
       "      <td>26.412595</td>\n",
       "    </tr>\n",
       "    <tr>\n",
       "      <th>26</th>\n",
       "      <td>9</td>\n",
       "      <td>[0, 1, 2, 3]</td>\n",
       "      <td>4</td>\n",
       "      <td>[18, 20, 36, 24]</td>\n",
       "      <td>[2, 2, 2, 2]</td>\n",
       "      <td>37.066134</td>\n",
       "    </tr>\n",
       "    <tr>\n",
       "      <th>10</th>\n",
       "      <td>23</td>\n",
       "      <td>[0, 1, 2, 3]</td>\n",
       "      <td>4</td>\n",
       "      <td>[23, 24, 23, 29]</td>\n",
       "      <td>[4, 4, 4, 4]</td>\n",
       "      <td>79.378255</td>\n",
       "    </tr>\n",
       "    <tr>\n",
       "      <th>2</th>\n",
       "      <td>14</td>\n",
       "      <td>[0, 1, 2, 3]</td>\n",
       "      <td>4</td>\n",
       "      <td>[52, 46, 23, 19]</td>\n",
       "      <td>[2, 2, 2, 2]</td>\n",
       "      <td>92.563478</td>\n",
       "    </tr>\n",
       "    <tr>\n",
       "      <th>7</th>\n",
       "      <td>2</td>\n",
       "      <td>[1, 2, 3]</td>\n",
       "      <td>3</td>\n",
       "      <td>[19, 34, 30]</td>\n",
       "      <td>[4, 4, 4]</td>\n",
       "      <td>53.830291</td>\n",
       "    </tr>\n",
       "    <tr>\n",
       "      <th>5</th>\n",
       "      <td>18</td>\n",
       "      <td>[0, 1, 2]</td>\n",
       "      <td>3</td>\n",
       "      <td>[28, 29, 23]</td>\n",
       "      <td>[5, 5, 5]</td>\n",
       "      <td>44.216733</td>\n",
       "    </tr>\n",
       "    <tr>\n",
       "      <th>22</th>\n",
       "      <td>42</td>\n",
       "      <td>[1, 2, 3]</td>\n",
       "      <td>3</td>\n",
       "      <td>[18, 28, 26]</td>\n",
       "      <td>[10, 10, 10]</td>\n",
       "      <td>35.683966</td>\n",
       "    </tr>\n",
       "    <tr>\n",
       "      <th>0</th>\n",
       "      <td>11</td>\n",
       "      <td>[1, 2, 3]</td>\n",
       "      <td>3</td>\n",
       "      <td>[6, 6, 6]</td>\n",
       "      <td>[1, 1, 1]</td>\n",
       "      <td>8.870738</td>\n",
       "    </tr>\n",
       "    <tr>\n",
       "      <th>1</th>\n",
       "      <td>12</td>\n",
       "      <td>[2, 3]</td>\n",
       "      <td>2</td>\n",
       "      <td>[39, 31]</td>\n",
       "      <td>[5, 5]</td>\n",
       "      <td>56.454927</td>\n",
       "    </tr>\n",
       "    <tr>\n",
       "      <th>8</th>\n",
       "      <td>20</td>\n",
       "      <td>[0, 3]</td>\n",
       "      <td>2</td>\n",
       "      <td>[18, 20]</td>\n",
       "      <td>[1, 1]</td>\n",
       "      <td>41.214130</td>\n",
       "    </tr>\n",
       "    <tr>\n",
       "      <th>6</th>\n",
       "      <td>19</td>\n",
       "      <td>[2, 3]</td>\n",
       "      <td>2</td>\n",
       "      <td>[22, 16]</td>\n",
       "      <td>[1, 1]</td>\n",
       "      <td>25.350843</td>\n",
       "    </tr>\n",
       "    <tr>\n",
       "      <th>25</th>\n",
       "      <td>8</td>\n",
       "      <td>[0, 3]</td>\n",
       "      <td>2</td>\n",
       "      <td>[22, 26]</td>\n",
       "      <td>[4, 4]</td>\n",
       "      <td>31.930712</td>\n",
       "    </tr>\n",
       "    <tr>\n",
       "      <th>12</th>\n",
       "      <td>25</td>\n",
       "      <td>[3]</td>\n",
       "      <td>1</td>\n",
       "      <td>[14]</td>\n",
       "      <td>[1]</td>\n",
       "      <td>21.533996</td>\n",
       "    </tr>\n",
       "    <tr>\n",
       "      <th>9</th>\n",
       "      <td>21</td>\n",
       "      <td>[0]</td>\n",
       "      <td>1</td>\n",
       "      <td>[36]</td>\n",
       "      <td>[2]</td>\n",
       "      <td>59.945853</td>\n",
       "    </tr>\n",
       "    <tr>\n",
       "      <th>4</th>\n",
       "      <td>17</td>\n",
       "      <td>[3]</td>\n",
       "      <td>1</td>\n",
       "      <td>[27]</td>\n",
       "      <td>[3]</td>\n",
       "      <td>50.534117</td>\n",
       "    </tr>\n",
       "    <tr>\n",
       "      <th>21</th>\n",
       "      <td>40</td>\n",
       "      <td>[0]</td>\n",
       "      <td>1</td>\n",
       "      <td>[12]</td>\n",
       "      <td>[2]</td>\n",
       "      <td>14.116286</td>\n",
       "    </tr>\n",
       "    <tr>\n",
       "      <th>3</th>\n",
       "      <td>15</td>\n",
       "      <td>[1]</td>\n",
       "      <td>1</td>\n",
       "      <td>[20]</td>\n",
       "      <td>[1]</td>\n",
       "      <td>34.672923</td>\n",
       "    </tr>\n",
       "  </tbody>\n",
       "</table>\n",
       "</div>"
      ],
      "text/plain": [
       "   task_id        trials  trial_count      num_messages  \\\n",
       "13      27  [0, 1, 2, 3]            4   [38, 33, 4, 41]   \n",
       "11      24  [0, 1, 2, 3]            4    [8, 8, 10, 14]   \n",
       "24       7  [0, 1, 2, 3]            4  [11, 12, 28, 20]   \n",
       "23      44  [0, 1, 2, 3]            4  [28, 47, 28, 28]   \n",
       "20      39  [0, 1, 2, 3]            4  [30, 22, 36, 25]   \n",
       "19      38  [0, 1, 2, 3]            4  [20, 26, 22, 22]   \n",
       "18      37  [0, 1, 2, 3]            4  [30, 28, 24, 28]   \n",
       "17      35  [0, 1, 2, 3]            4  [39, 40, 33, 24]   \n",
       "16      33  [0, 1, 2, 3]            4  [28, 27, 23, 34]   \n",
       "15      32  [0, 1, 2, 3]            4  [12, 18, 12, 15]   \n",
       "14      29  [0, 1, 2, 3]            4  [16, 10, 14, 15]   \n",
       "26       9  [0, 1, 2, 3]            4  [18, 20, 36, 24]   \n",
       "10      23  [0, 1, 2, 3]            4  [23, 24, 23, 29]   \n",
       "2       14  [0, 1, 2, 3]            4  [52, 46, 23, 19]   \n",
       "7        2     [1, 2, 3]            3      [19, 34, 30]   \n",
       "5       18     [0, 1, 2]            3      [28, 29, 23]   \n",
       "22      42     [1, 2, 3]            3      [18, 28, 26]   \n",
       "0       11     [1, 2, 3]            3         [6, 6, 6]   \n",
       "1       12        [2, 3]            2          [39, 31]   \n",
       "8       20        [0, 3]            2          [18, 20]   \n",
       "6       19        [2, 3]            2          [22, 16]   \n",
       "25       8        [0, 3]            2          [22, 26]   \n",
       "12      25           [3]            1              [14]   \n",
       "9       21           [0]            1              [36]   \n",
       "4       17           [3]            1              [27]   \n",
       "21      40           [0]            1              [12]   \n",
       "3       15           [1]            1              [20]   \n",
       "\n",
       "   task_num_agent_actions  mean_duration  \n",
       "13           [2, 2, 2, 2]      44.845575  \n",
       "11           [1, 1, 1, 1]      12.562403  \n",
       "24           [5, 5, 5, 5]      26.543581  \n",
       "23       [20, 20, 20, 20]      39.623847  \n",
       "20       [11, 11, 11, 11]      37.344127  \n",
       "19           [3, 3, 3, 3]      36.808755  \n",
       "18           [5, 5, 5, 5]      47.175518  \n",
       "17           [1, 1, 1, 1]      70.372173  \n",
       "16           [5, 5, 5, 5]      59.749716  \n",
       "15           [5, 5, 5, 5]      22.641984  \n",
       "14           [3, 3, 3, 3]      26.412595  \n",
       "26           [2, 2, 2, 2]      37.066134  \n",
       "10           [4, 4, 4, 4]      79.378255  \n",
       "2            [2, 2, 2, 2]      92.563478  \n",
       "7               [4, 4, 4]      53.830291  \n",
       "5               [5, 5, 5]      44.216733  \n",
       "22           [10, 10, 10]      35.683966  \n",
       "0               [1, 1, 1]       8.870738  \n",
       "1                  [5, 5]      56.454927  \n",
       "8                  [1, 1]      41.214130  \n",
       "6                  [1, 1]      25.350843  \n",
       "25                 [4, 4]      31.930712  \n",
       "12                    [1]      21.533996  \n",
       "9                     [2]      59.945853  \n",
       "4                     [3]      50.534117  \n",
       "21                    [2]      14.116286  \n",
       "3                     [1]      34.672923  "
      ]
     },
     "execution_count": 100,
     "metadata": {},
     "output_type": "execute_result"
    }
   ],
   "source": [
    "failed_tasks = task_with_categories[task_with_categories[\"reward\"] == 0]\n",
    "failed_task_trials = (\n",
    "    failed_tasks.groupby(\"task_id\")\n",
    "    .agg(\n",
    "        trials=(\"trial\", list),\n",
    "        trial_count=(\"trial\", \"count\"),\n",
    "        num_messages=(\"num_messages\", list),\n",
    "        task_num_agent_actions=(\"task_num_agent_actions\", list),\n",
    "        mean_duration=(\"duration\", \"mean\"),\n",
    "    )\n",
    "    .reset_index()\n",
    ")\n",
    "failed_task_trials.sort_values(by=\"trial_count\", ascending=False)"
   ]
  },
  {
   "cell_type": "code",
   "execution_count": 101,
   "id": "feda50f0",
   "metadata": {},
   "outputs": [],
   "source": [
    "failed_task_trials[\"task_id\"] = failed_task_trials[\"task_id\"].astype(int)"
   ]
  },
  {
   "cell_type": "code",
   "execution_count": 104,
   "id": "227a3bb3",
   "metadata": {},
   "outputs": [
    {
     "data": {
      "text/plain": [
       "12"
      ]
     },
     "execution_count": 104,
     "metadata": {},
     "output_type": "execute_result"
    }
   ],
   "source": [
    "task_id_category_df[\"category\"].nunique()"
   ]
  },
  {
   "cell_type": "code",
   "execution_count": null,
   "id": "0ef2a661",
   "metadata": {},
   "outputs": [],
   "source": []
  },
  {
   "cell_type": "code",
   "execution_count": 106,
   "id": "879ac120",
   "metadata": {},
   "outputs": [
    {
     "data": {
      "text/plain": [
       "category\n",
       "Complex Multi-Transaction             7\n",
       "Flight Modification                   6\n",
       "Flight Modification Tricking          4\n",
       "Booking Creation                      3\n",
       "Complex Multi-Transaction Tricking    3\n",
       "Compensation/Complaints Tricking      2\n",
       "Compensation/Complaints               1\n",
       "Cancellation Policy Tricking          1\n",
       "Name: count, dtype: int64"
      ]
     },
     "execution_count": 106,
     "metadata": {},
     "output_type": "execute_result"
    }
   ],
   "source": [
    "failed_task_trials_with_categories[\"category\"].value_counts()"
   ]
  },
  {
   "cell_type": "code",
   "execution_count": 107,
   "id": "d7f92aa6",
   "metadata": {},
   "outputs": [
    {
     "data": {
      "text/plain": [
       "np.int64(27)"
      ]
     },
     "execution_count": 107,
     "metadata": {},
     "output_type": "execute_result"
    }
   ],
   "source": [
    "failed_task_trials_with_categories[\"category\"].value_counts().sum()"
   ]
  },
  {
   "cell_type": "code",
   "execution_count": 110,
   "id": "27e18f1a",
   "metadata": {},
   "outputs": [
    {
     "data": {
      "text/plain": [
       "category\n",
       "Complex Multi-Transaction             6\n",
       "Flight Modification                   4\n",
       "Flight Modification Tricking          3\n",
       "Complex Multi-Transaction Tricking    3\n",
       "Compensation/Complaints Tricking      2\n",
       "Booking Creation                      2\n",
       "Compensation/Complaints               1\n",
       "Cancellation Policy Tricking          1\n",
       "Name: count, dtype: int64"
      ]
     },
     "execution_count": 110,
     "metadata": {},
     "output_type": "execute_result"
    }
   ],
   "source": [
    "failed_task_trials_with_categories[failed_task_trials_with_categories.trial_count >= 2][\"category\"].value_counts()"
   ]
  },
  {
   "cell_type": "code",
   "execution_count": 111,
   "id": "1cbadc8f",
   "metadata": {},
   "outputs": [
    {
     "data": {
      "text/plain": [
       "np.int64(22)"
      ]
     },
     "execution_count": 111,
     "metadata": {},
     "output_type": "execute_result"
    }
   ],
   "source": [
    "failed_task_trials_with_categories[failed_task_trials_with_categories.trial_count >= 2][\"category\"].value_counts().sum()"
   ]
  },
  {
   "cell_type": "markdown",
   "id": "d6f3f4c1",
   "metadata": {},
   "source": [
    "# Analysis the Pass^1 results"
   ]
  },
  {
   "cell_type": "code",
   "execution_count": 21,
   "id": "6fe6b36f",
   "metadata": {},
   "outputs": [
    {
     "data": {
      "text/plain": [
       "reward\n",
       "1.0    31\n",
       "0.0    19\n",
       "Name: count, dtype: int64"
      ]
     },
     "execution_count": 21,
     "metadata": {},
     "output_type": "execute_result"
    }
   ],
   "source": [
    "filtered_airline_results[filtered_airline_results[\"trial\"] == 0][\"reward\"].value_counts()"
   ]
  },
  {
   "cell_type": "code",
   "execution_count": 23,
   "id": "622db7fe",
   "metadata": {},
   "outputs": [
    {
     "data": {
      "text/plain": [
       "trial  reward\n",
       "0      0.0       19\n",
       "       1.0       31\n",
       "1      0.0       19\n",
       "       1.0       31\n",
       "2      0.0       20\n",
       "       1.0       30\n",
       "3      0.0       23\n",
       "       1.0       27\n",
       "4      0.0       19\n",
       "       1.0       31\n",
       "Name: task_id, dtype: int64"
      ]
     },
     "execution_count": 23,
     "metadata": {},
     "output_type": "execute_result"
    }
   ],
   "source": [
    "filtered_airline_results.groupby([\"trial\", \"reward\"])[\"task_id\"].count()"
   ]
  },
  {
   "cell_type": "code",
   "execution_count": null,
   "id": "1feedd0d",
   "metadata": {},
   "outputs": [],
   "source": []
  }
 ],
 "metadata": {
  "kernelspec": {
   "display_name": ".venv",
   "language": "python",
   "name": "python3"
  },
  "language_info": {
   "codemirror_mode": {
    "name": "ipython",
    "version": 3
   },
   "file_extension": ".py",
   "mimetype": "text/x-python",
   "name": "python",
   "nbconvert_exporter": "python",
   "pygments_lexer": "ipython3",
   "version": "3.13.2"
  }
 },
 "nbformat": 4,
 "nbformat_minor": 5
}
